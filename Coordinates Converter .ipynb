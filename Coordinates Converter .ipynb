{
 "cells": [
  {
   "cell_type": "code",
   "execution_count": 1,
   "id": "f7faf1aa",
   "metadata": {},
   "outputs": [],
   "source": [
    "import pandas as pd\n",
    "import numpy as np"
   ]
  },
  {
   "cell_type": "code",
   "execution_count": 2,
   "id": "8f947a13",
   "metadata": {},
   "outputs": [],
   "source": [
    "df = pd.read_excel(\"Template.xlsx\")"
   ]
  },
  {
   "cell_type": "code",
   "execution_count": 3,
   "id": "b3c314ff",
   "metadata": {},
   "outputs": [
    {
     "data": {
      "text/html": [
       "<div>\n",
       "<style scoped>\n",
       "    .dataframe tbody tr th:only-of-type {\n",
       "        vertical-align: middle;\n",
       "    }\n",
       "\n",
       "    .dataframe tbody tr th {\n",
       "        vertical-align: top;\n",
       "    }\n",
       "\n",
       "    .dataframe thead th {\n",
       "        text-align: right;\n",
       "    }\n",
       "</style>\n",
       "<table border=\"1\" class=\"dataframe\">\n",
       "  <thead>\n",
       "    <tr style=\"text-align: right;\">\n",
       "      <th></th>\n",
       "      <th>Lat</th>\n",
       "      <th>Long</th>\n",
       "    </tr>\n",
       "  </thead>\n",
       "  <tbody>\n",
       "    <tr>\n",
       "      <th>0</th>\n",
       "      <td>32° 18' 23.1\" N</td>\n",
       "      <td>122° 36' 52.5\" W</td>\n",
       "    </tr>\n",
       "  </tbody>\n",
       "</table>\n",
       "</div>"
      ],
      "text/plain": [
       "               Lat              Long\n",
       "0  32° 18' 23.1\" N  122° 36' 52.5\" W"
      ]
     },
     "execution_count": 3,
     "metadata": {},
     "output_type": "execute_result"
    }
   ],
   "source": [
    "df.head()"
   ]
  },
  {
   "cell_type": "code",
   "execution_count": 4,
   "id": "cce77ac5",
   "metadata": {},
   "outputs": [
    {
     "name": "stdout",
     "output_type": "stream",
     "text": [
      "<class 'pandas.core.frame.DataFrame'>\n",
      "RangeIndex: 1 entries, 0 to 0\n",
      "Data columns (total 2 columns):\n",
      " #   Column  Non-Null Count  Dtype \n",
      "---  ------  --------------  ----- \n",
      " 0   Lat     1 non-null      object\n",
      " 1   Long    1 non-null      object\n",
      "dtypes: object(2)\n",
      "memory usage: 144.0+ bytes\n"
     ]
    }
   ],
   "source": [
    "df.info()"
   ]
  },
  {
   "cell_type": "code",
   "execution_count": 5,
   "id": "753372dd",
   "metadata": {},
   "outputs": [],
   "source": [
    "df = df.astype(str)"
   ]
  },
  {
   "cell_type": "code",
   "execution_count": 6,
   "id": "eb7a4749",
   "metadata": {},
   "outputs": [
    {
     "name": "stdout",
     "output_type": "stream",
     "text": [
      "<class 'pandas.core.frame.DataFrame'>\n",
      "RangeIndex: 1 entries, 0 to 0\n",
      "Data columns (total 2 columns):\n",
      " #   Column  Non-Null Count  Dtype \n",
      "---  ------  --------------  ----- \n",
      " 0   Lat     1 non-null      object\n",
      " 1   Long    1 non-null      object\n",
      "dtypes: object(2)\n",
      "memory usage: 144.0+ bytes\n"
     ]
    }
   ],
   "source": [
    "df.info()"
   ]
  },
  {
   "cell_type": "code",
   "execution_count": 7,
   "id": "143a83c0",
   "metadata": {},
   "outputs": [],
   "source": [
    "def convert_lat(lat):\n",
    "    first_number = lat.split('°')[0] #split off the deg character and grab the first item (i.e. 32)\n",
    "    second_number = lat.split('°')[1].split(\"\"\"'\"\"\")[0].strip(\" \") #split off deg, grab the 2nd part\n",
    "    #and split again off the ' apostrophe and grab the first [0] part again and strip the space    \n",
    "    second_number = float(second_number)/60 #convert to float and divide by 60\n",
    "    third_number = lat.split('°')[1].split(\"\"\"'\"\"\")[1].strip(\" \") #same as second_number but grab the\n",
    "    # second [1] part\n",
    "    third_number = float(str(third_number).split('''\"''')[0])/3600 #take the current 3rd number and split\n",
    "    # off of the \" quotation,grab the first [0] part, convert to a float and divide by 3600 \n",
    "    combined_number = int(first_number) + (second_number + third_number) # combine everything as a int\n",
    "    # plus a float\n",
    "    return(combined_number)\n",
    "\n"
   ]
  },
  {
   "cell_type": "code",
   "execution_count": 8,
   "id": "8d5e9f54",
   "metadata": {},
   "outputs": [
    {
     "data": {
      "text/plain": [
       "32.306416666666664"
      ]
     },
     "execution_count": 8,
     "metadata": {},
     "output_type": "execute_result"
    }
   ],
   "source": [
    "# double check it is working:\n",
    "convert_lat(\"\"\"32° 18' 23.1\" N\"\"\")"
   ]
  },
  {
   "cell_type": "code",
   "execution_count": 9,
   "id": "ffa71697",
   "metadata": {},
   "outputs": [],
   "source": [
    "# create a new column for the converted Lat\n",
    "df[\"Converted Lat\"] = df['Lat'].apply(convert_lat)"
   ]
  },
  {
   "cell_type": "code",
   "execution_count": 10,
   "id": "8a92193a",
   "metadata": {},
   "outputs": [],
   "source": [
    "# create a new column for the converted Long\n",
    "df[\"Converted Long\"] = df['Long'].apply(convert_lat)"
   ]
  },
  {
   "cell_type": "code",
   "execution_count": 11,
   "id": "ae128481",
   "metadata": {},
   "outputs": [
    {
     "data": {
      "text/html": [
       "<div>\n",
       "<style scoped>\n",
       "    .dataframe tbody tr th:only-of-type {\n",
       "        vertical-align: middle;\n",
       "    }\n",
       "\n",
       "    .dataframe tbody tr th {\n",
       "        vertical-align: top;\n",
       "    }\n",
       "\n",
       "    .dataframe thead th {\n",
       "        text-align: right;\n",
       "    }\n",
       "</style>\n",
       "<table border=\"1\" class=\"dataframe\">\n",
       "  <thead>\n",
       "    <tr style=\"text-align: right;\">\n",
       "      <th></th>\n",
       "      <th>Lat</th>\n",
       "      <th>Long</th>\n",
       "      <th>Converted Lat</th>\n",
       "      <th>Converted Long</th>\n",
       "    </tr>\n",
       "  </thead>\n",
       "  <tbody>\n",
       "    <tr>\n",
       "      <th>0</th>\n",
       "      <td>32° 18' 23.1\" N</td>\n",
       "      <td>122° 36' 52.5\" W</td>\n",
       "      <td>32.306417</td>\n",
       "      <td>122.614583</td>\n",
       "    </tr>\n",
       "  </tbody>\n",
       "</table>\n",
       "</div>"
      ],
      "text/plain": [
       "               Lat              Long  Converted Lat  Converted Long\n",
       "0  32° 18' 23.1\" N  122° 36' 52.5\" W      32.306417      122.614583"
      ]
     },
     "execution_count": 11,
     "metadata": {},
     "output_type": "execute_result"
    }
   ],
   "source": [
    "df.head()"
   ]
  },
  {
   "cell_type": "code",
   "execution_count": 12,
   "id": "59b289d4",
   "metadata": {},
   "outputs": [],
   "source": [
    "# found a method to add the date to the excel filename \n",
    "# from https://stackoverflow.com/questions/45283921/using-current-date-as-file-name-when-exporting-dataframe\n",
    "import time\n",
    "\n",
    "TodaysDate = time.strftime(\"%m.%d.%Y\")\n",
    "excelfilename = TodaysDate +\".xlsx\"\n",
    "\n",
    "#DataSet.to_excel(excelfilename, sheet_name='sheet1', index=False)"
   ]
  },
  {
   "cell_type": "code",
   "execution_count": 13,
   "id": "5853f5a1",
   "metadata": {},
   "outputs": [],
   "source": [
    "# write the output to a new excel sheet with the word \"Converted Coordinates\" and the current date\n",
    "df.to_excel(\"Converted Coordinates \"+excelfilename)"
   ]
  },
  {
   "cell_type": "code",
   "execution_count": null,
   "id": "f85ba4eb",
   "metadata": {},
   "outputs": [],
   "source": []
  }
 ],
 "metadata": {
  "kernelspec": {
   "display_name": "Python 3 (ipykernel)",
   "language": "python",
   "name": "python3"
  },
  "language_info": {
   "codemirror_mode": {
    "name": "ipython",
    "version": 3
   },
   "file_extension": ".py",
   "mimetype": "text/x-python",
   "name": "python",
   "nbconvert_exporter": "python",
   "pygments_lexer": "ipython3",
   "version": "3.8.8"
  },
  "toc": {
   "base_numbering": 1,
   "nav_menu": {},
   "number_sections": true,
   "sideBar": true,
   "skip_h1_title": false,
   "title_cell": "Table of Contents",
   "title_sidebar": "Contents",
   "toc_cell": false,
   "toc_position": {},
   "toc_section_display": true,
   "toc_window_display": false
  }
 },
 "nbformat": 4,
 "nbformat_minor": 5
}
